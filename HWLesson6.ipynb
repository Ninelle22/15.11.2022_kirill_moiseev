{
  "cells": [
    {
      "cell_type": "markdown",
      "metadata": {
        "id": "view-in-github",
        "colab_type": "text"
      },
      "source": [
        "<a href=\"https://colab.research.google.com/github/Ninelle22/15.11.2022_kirill_moiseev/blob/master/HWLesson6.ipynb\" target=\"_parent\"><img src=\"https://colab.research.google.com/assets/colab-badge.svg\" alt=\"Open In Colab\"/></a>"
      ]
    },
    {
      "cell_type": "code",
      "execution_count": null,
      "metadata": {
        "colab": {
          "base_uri": "https://localhost:8080/"
        },
        "id": "24etr1chJeNi",
        "outputId": "04426e1d-ba42-4df7-fdab-f62cee462824"
      },
      "outputs": [
        {
          "data": {
            "text/plain": [
              "(78.04003601545995, 80.0)"
            ]
          },
          "execution_count": 2,
          "metadata": {},
          "output_type": "execute_result"
        }
      ],
      "source": [
        "#TASK1 \n",
        "\n",
        "import numpy as np\n",
        "import scipy.stats as stats\n",
        "sigma = 16\n",
        "alpha = 0.05/2\n",
        "mu = 80\n",
        "n = 256\n",
        "z = stats.norm.ppf(1 - alpha)\n",
        "mu - z*(sigma/np.sqrt(n)), mu*(sigma / np.sqrt(n))\n",
        "\n"
      ]
    },
    {
      "cell_type": "code",
      "execution_count": null,
      "metadata": {
        "colab": {
          "base_uri": "https://localhost:8080/"
        },
        "id": "UNj2miYuLU2l",
        "outputId": "a8198b8a-636c-4abc-fbb2-9391f65c3eb3"
      },
      "outputs": [
        {
          "data": {
            "text/plain": [
              "(6.27, 6.91)"
            ]
          },
          "execution_count": 7,
          "metadata": {},
          "output_type": "execute_result"
        }
      ],
      "source": [
        "#Task 2\n",
        "import numpy as np\n",
        "import scipy.stats as stats\n",
        "def conf_int(x, alpha = 0.05):\n",
        "    n = len(x)\n",
        "    mu = np.mean(x)\n",
        "    sigma = np.std(x, ddof=1)\n",
        "    t = stats.t.ppf(1-(alpha/2), n-1)\n",
        "    return round(mu - t * (sigma / np.sqrt(n)), 2), round(mu + t * (sigma /np.sqrt(n)),2)\n",
        "x = np.array([6.9, 6.1, 6.2, 6.8, 7.5, 6.3, 6.4, 6.9, 6.7, 6.1])\n",
        "\n",
        "conf_int(x)"
      ]
    },
    {
      "cell_type": "code",
      "execution_count": null,
      "metadata": {
        "colab": {
          "base_uri": "https://localhost:8080/"
        },
        "id": "ktl6msaHOQZ8",
        "outputId": "a5402516-56be-46f5-80db-fabd1ef3433f"
      },
      "outputs": [
        {
          "data": {
            "text/plain": [
              "(-10.068418034506857, 6.268418034506846)"
            ]
          },
          "execution_count": 16,
          "metadata": {},
          "output_type": "execute_result"
        }
      ],
      "source": [
        "#Task 3 \n",
        "from scipy import stats\n",
        "x = np.array([175, 167,154, 174, 178, 148, 160, 167, 169, 170])\n",
        "y = np.array([178, 165, 165, 173, 168, 155, 160, 164, 178, 175])\n",
        "delta = x.mean() - y.mean()\n",
        "D = (x.var(ddof=1) + y.var(ddof=1)) / 2\n",
        "S = np.sqrt(D / len(x) + D / len(y))\n",
        "ns = (len(x) - 1) * 2\n",
        "t = stats.t.ppf(0.975, ns)\n",
        "delta - t * S, delta + t * S"
      ]
    }
  ],
  "metadata": {
    "colab": {
      "provenance": [],
      "include_colab_link": true
    },
    "kernelspec": {
      "display_name": "Python 3",
      "language": "python",
      "name": "python3"
    },
    "language_info": {
      "name": "python",
      "version": "3.11.1"
    },
    "vscode": {
      "interpreter": {
        "hash": "e956c49ae0caa224b5fdd754cbc353d7e61c6c61f7329ee680c7f7b4f1b71a8e"
      }
    }
  },
  "nbformat": 4,
  "nbformat_minor": 0
}